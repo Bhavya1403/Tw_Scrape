{
 "cells": [
  {
   "cell_type": "code",
   "execution_count": 1,
   "metadata": {},
   "outputs": [
    {
     "name": "stderr",
     "output_type": "stream",
     "text": [
      "Testing instances: 100%|██████████| 77/77 [02:07<00:00,  1.66s/it]\n"
     ]
    }
   ],
   "source": [
    "import pandas as pd\n",
    "from ntscraper import Nitter\n",
    "\n",
    "scraper = Nitter()"
   ]
  },
  {
   "cell_type": "code",
   "execution_count": 46,
   "metadata": {},
   "outputs": [
    {
     "name": "stdout",
     "output_type": "stream",
     "text": [
      "12-Mar-24 20:22:01 - Current stats for imVkohli: 5 tweets, 0 threads...\n"
     ]
    }
   ],
   "source": [
    "tweets = scraper.get_tweets('imVkohli', mode = 'user', number = 5, instance = 'https://nitter.privacydev.net')"
   ]
  },
  {
   "cell_type": "code",
   "execution_count": 34,
   "metadata": {},
   "outputs": [
    {
     "data": {
      "text/plain": [
       "{'tweets': [{'link': 'https://twitter.com/imVkohli/status/1762032712708390993#m',\n",
       "   'text': 'YES!!! 🇮🇳 Phenomenal series win by our young team. Showed grit, determination and resilience. @BCCI',\n",
       "   'user': {'name': 'Virat Kohli',\n",
       "    'username': '@imVkohli',\n",
       "    'profile_id': '1562753500726976514',\n",
       "    'avatar': 'https://pbs.twimg.com/profile_images/1562753500726976514/EPSUNyR3_bigger.jpg'},\n",
       "   'date': 'Feb 26, 2024 · 8:31 AM UTC',\n",
       "   'is-retweet': False,\n",
       "   'is-pinned': False,\n",
       "   'external-link': '',\n",
       "   'replying-to': [],\n",
       "   'quoted-post': {},\n",
       "   'stats': {'comments': 4897,\n",
       "    'retweets': 18849,\n",
       "    'quotes': 1253,\n",
       "    'likes': 208836},\n",
       "   'pictures': [],\n",
       "   'videos': [],\n",
       "   'gifs': []},\n",
       "  {'link': 'https://twitter.com/imVkohli/status/1759962813626491369#m',\n",
       "   'text': '❤️',\n",
       "   'user': {'name': 'Virat Kohli',\n",
       "    'username': '@imVkohli',\n",
       "    'profile_id': '1562753500726976514',\n",
       "    'avatar': 'https://pbs.twimg.com/profile_images/1562753500726976514/EPSUNyR3_bigger.jpg'},\n",
       "   'date': 'Feb 20, 2024 · 3:26 PM UTC',\n",
       "   'is-retweet': False,\n",
       "   'is-pinned': False,\n",
       "   'external-link': '',\n",
       "   'replying-to': [],\n",
       "   'quoted-post': {},\n",
       "   'stats': {'comments': 24144,\n",
       "    'retweets': 45993,\n",
       "    'quotes': 6083,\n",
       "    'likes': 441133},\n",
       "   'pictures': ['https://pbs.twimg.com/media/GGyk2cYaAAAxTfv.jpg'],\n",
       "   'videos': [],\n",
       "   'gifs': []},\n",
       "  {'link': 'https://twitter.com/imVkohli/status/1748941385972293903#m',\n",
       "   'text': \"Research reveals that O’cean Fruit Water has a loyal fan base. Shockingly, not because of me, but thanks to its delicious flavors, B-Vitamins & minerals. Must admit, I'm a big fan too! Use VK10 for 10% off @ oceanbeverages.in Available @ retail stores @OceanBeverages #ad\",\n",
       "   'user': {'name': 'Virat Kohli',\n",
       "    'username': '@imVkohli',\n",
       "    'profile_id': '1562753500726976514',\n",
       "    'avatar': 'https://pbs.twimg.com/profile_images/1562753500726976514/EPSUNyR3_bigger.jpg'},\n",
       "   'date': 'Jan 21, 2024 · 5:31 AM UTC',\n",
       "   'is-retweet': False,\n",
       "   'is-pinned': False,\n",
       "   'external-link': '',\n",
       "   'replying-to': [],\n",
       "   'quoted-post': {},\n",
       "   'stats': {'comments': 1563, 'retweets': 1581, 'quotes': 81, 'likes': 26336},\n",
       "   'pictures': [],\n",
       "   'videos': ['https://video.twimg.com/amplify_video/1748941001413267456/vid/avc1/720x720/UFlm9EqJPPtDgMlv.mp4?tag=14'],\n",
       "   'gifs': []},\n",
       "  {'link': 'https://twitter.com/imVkohli/status/1745664399191273793#m',\n",
       "   'text': 'Rewinding to the best bits — From Bollywood Dialogues to deciphering the cool kids’ lingo and so much more. Step into my Unplugged World! 🎬  Watch the full video and all episodes here 🔗bit.ly/3Sdd4DG @StayWrogn #ad',\n",
       "   'user': {'name': 'Virat Kohli',\n",
       "    'username': '@imVkohli',\n",
       "    'profile_id': '1562753500726976514',\n",
       "    'avatar': 'https://pbs.twimg.com/profile_images/1562753500726976514/EPSUNyR3_bigger.jpg'},\n",
       "   'date': 'Jan 12, 2024 · 4:30 AM UTC',\n",
       "   'is-retweet': False,\n",
       "   'is-pinned': False,\n",
       "   'external-link': '',\n",
       "   'replying-to': [],\n",
       "   'quoted-post': {},\n",
       "   'stats': {'comments': 940, 'retweets': 1512, 'quotes': 50, 'likes': 22305},\n",
       "   'pictures': [],\n",
       "   'videos': ['https://video.twimg.com/amplify_video/1745311412296077312/vid/avc1/1280x720/lX2mfnN4GODbqvk5.mp4?tag=14'],\n",
       "   'gifs': []},\n",
       "  {'link': 'https://twitter.com/imVkohli/status/1745000022838497345#m',\n",
       "   'text': 'Kickstarting 2024 at the Baugh!   Love my new holiday home at Avās Living, Alibaugh. Super excited to give you a sneak peak into my oasis. . . #avasxvirat #inhabityourbestself #alibaug #baughofwonders #luxuryvillas #avaswellness #ad @AvasWellness',\n",
       "   'user': {'name': 'Virat Kohli',\n",
       "    'username': '@imVkohli',\n",
       "    'profile_id': '1562753500726976514',\n",
       "    'avatar': 'https://pbs.twimg.com/profile_images/1562753500726976514/EPSUNyR3_bigger.jpg'},\n",
       "   'date': 'Jan 10, 2024 · 8:30 AM UTC',\n",
       "   'is-retweet': False,\n",
       "   'is-pinned': False,\n",
       "   'external-link': '',\n",
       "   'replying-to': [],\n",
       "   'quoted-post': {},\n",
       "   'stats': {'comments': 943, 'retweets': 2543, 'quotes': 69, 'likes': 35254},\n",
       "   'pictures': [],\n",
       "   'videos': ['https://video.twimg.com/amplify_video/1744993906578849792/vid/avc1/1280x720/OmjnQwSmlUhfS3uB.mp4?tag=14'],\n",
       "   'gifs': []}],\n",
       " 'threads': []}"
      ]
     },
     "execution_count": 34,
     "metadata": {},
     "output_type": "execute_result"
    }
   ],
   "source": [
    "tweets"
   ]
  },
  {
   "cell_type": "code",
   "execution_count": 37,
   "metadata": {},
   "outputs": [],
   "source": [
    "final_tweets = []\n",
    "for tweet in tweets['tweets'] :\n",
    "    data = [ tweet['text'], tweet['date']]\n",
    "    final_tweets.append(data)"
   ]
  },
  {
   "cell_type": "code",
   "execution_count": 38,
   "metadata": {},
   "outputs": [],
   "source": [
    "data = pd.DataFrame(final_tweets, columns=['text','date'])"
   ]
  }
 ],
 "metadata": {
  "kernelspec": {
   "display_name": "Python 3",
   "language": "python",
   "name": "python3"
  },
  "language_info": {
   "codemirror_mode": {
    "name": "ipython",
    "version": 3
   },
   "file_extension": ".py",
   "mimetype": "text/x-python",
   "name": "python",
   "nbconvert_exporter": "python",
   "pygments_lexer": "ipython3",
   "version": "3.12.2"
  }
 },
 "nbformat": 4,
 "nbformat_minor": 2
}
